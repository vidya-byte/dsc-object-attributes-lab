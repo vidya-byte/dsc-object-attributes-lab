{
 "cells": [
  {
   "cell_type": "markdown",
   "metadata": {},
   "source": [
    "# Object Attributes - Lab"
   ]
  },
  {
   "cell_type": "markdown",
   "metadata": {},
   "source": [
    "## Introduction\n",
    "In this lab, you'll practice defining classes and instance methods. "
   ]
  },
  {
   "cell_type": "markdown",
   "metadata": {},
   "source": [
    "## Objectives\n",
    "\n",
    "You will be able to:\n",
    "\n",
    "* Define and call an instance method\n",
    "* Define and access instance attributes"
   ]
  },
  {
   "cell_type": "markdown",
   "metadata": {},
   "source": [
    "## Defining Classes and Instance Methods"
   ]
  },
  {
   "cell_type": "markdown",
   "metadata": {},
   "source": [
    "In the cell below define a `Driver` class.\n",
    "\n",
    "For this class, create a method called `greet_passenger()`, which returns the string `Hello! I'll be your driver today. My name is ` followed by that driver's first name and last name (i.e. `Hello! I'll be your driver today. My name is John Doe`). (Be sure to keep in mind that the driver's name will be stored under two separate attributes: first and last.)"
   ]
  },
  {
   "cell_type": "code",
   "execution_count": 1,
   "metadata": {},
   "outputs": [],
   "source": [
    "# Define Driver Class here with properties for each instance variable\n",
    "class Driver:\n",
    "    def __init__(self, first_name, last_name):\n",
    "        self.first_name = first_name  \n",
    "        self.last_name = last_name    \n",
    "\n",
    "    def greet_passenger(self):\n",
    "        # Return a greeting that includes the driver's full name\n",
    "        return f\"Hello! I'll be your driver today. My name is {self.first_name} {self.last_name}.\"\n",
    "    \n",
    "# Instantiate a Driver\n",
    "driver = Driver(\"John\", \"Doe\")\n",
    "print(driver.greet_passenger()) \n",
    "\n"
   ]
  },
  {
   "cell_type": "markdown",
   "metadata": {},
   "source": [
    "Great! Now create an instance of your driver class. Then, create the following attributes for your instance:\n",
    "* `first` - the first name of the driver. Set it to Matthew.\n",
    "* `last` - the last name of the driver. Set it to Mitchell.\n",
    "* `miles_driven` - the number of miles driven by the driver. Set it to 100.\n",
    "* `rating` - the driver's rating. Set it to 4.9\n",
    "\n",
    "Finally, use your `greet_passenger()` method for your `Driver` instance object."
   ]
  },
  {
   "cell_type": "code",
   "execution_count": 2,
   "metadata": {},
   "outputs": [
    {
     "name": "stdout",
     "output_type": "stream",
     "text": [
      "Hello! I'll be your driver today. My name is Matthew Mitchell.\n"
     ]
    }
   ],
   "source": [
    "# Create an instance with the above 4 attributes and then call the greet_passenger method\n",
    "class Driver:\n",
    "    def __init__(self, first_name, last_name, miles_driven, rating):\n",
    "        self.first_name = first_name  \n",
    "        self.last_name = last_name    \n",
    "        self.miles_driven = miles_driven  \n",
    "        self.rating = rating  \n",
    "    \n",
    "    def greet_passenger(self):\n",
    "        # Return a greeting that includes the driver's full name\n",
    "        return f\"Hello! I'll be your driver today. My name is {self.first_name} {self.last_name}.\"\n",
    "    \n",
    "# Create an instance of Driver with the required attributes\n",
    "driver_instance = Driver(first_name=\"Matthew\", last_name=\"Mitchell\", miles_driven=100, rating=4.9)\n",
    "print(driver_instance.greet_passenger()) "
   ]
  },
  {
   "cell_type": "markdown",
   "metadata": {},
   "source": [
    "Now, create a passenger class with one method `yell_name()` which prints the passenger's first and last name in all caps. (Again first and last will be stored as separate attributes.)"
   ]
  },
  {
   "cell_type": "code",
   "execution_count": 3,
   "metadata": {},
   "outputs": [
    {
     "name": "stdout",
     "output_type": "stream",
     "text": [
      "JOHN DOE\n"
     ]
    }
   ],
   "source": [
    "# Define Passenger Class here with properties for each instance variable\n",
    "class Passenger:\n",
    "    def __init__(self, first_name, last_name):\n",
    "        self.first_name = first_name  \n",
    "        self.last_name = last_name   \n",
    "\n",
    "    def yell_name(self):\n",
    "        # Print the passenger's full name in all caps\n",
    "        print(f\"{self.first_name.upper()} {self.last_name.upper()}\")\n",
    "        \n",
    "# Create an instance of Passenger with a first and last name\n",
    "passenger_instance = Passenger(first_name=\"John\", last_name=\"Doe\")\n",
    "passenger_instance.yell_name() \n",
    "\n"
   ]
  },
  {
   "cell_type": "markdown",
   "metadata": {},
   "source": [
    "Create an instance of your passenger class. Then create an attribute \"first\" set to \"Ron\" and an attribute \"last\" set to \"Burgundy\". Then call the `yell_name()` method."
   ]
  },
  {
   "cell_type": "code",
   "execution_count": 4,
   "metadata": {},
   "outputs": [
    {
     "name": "stdout",
     "output_type": "stream",
     "text": [
      "RON BURGUNDY\n"
     ]
    }
   ],
   "source": [
    "# Create an instance of the passenger class with the first and last attributes. Then call the yell_name method\n",
    "passenger_instance = Passenger(first_name=\"Ron\", last_name=\"Burgundy\")\n",
    "passenger_instance.yell_name()  \n"
   ]
  },
  {
   "cell_type": "markdown",
   "metadata": {},
   "source": [
    "Great work!"
   ]
  },
  {
   "cell_type": "markdown",
   "metadata": {},
   "source": [
    "## Summary\n",
    "In this lab, you practiced defining classes, creating instances of said classes, and using methods that made calls to object attributes."
   ]
  }
 ],
 "metadata": {
  "kernelspec": {
   "display_name": "Python 3",
   "language": "python",
   "name": "python3"
  },
  "language_info": {
   "codemirror_mode": {
    "name": "ipython",
    "version": 3
   },
   "file_extension": ".py",
   "mimetype": "text/x-python",
   "name": "python",
   "nbconvert_exporter": "python",
   "pygments_lexer": "ipython3",
   "version": "3.8.5"
  }
 },
 "nbformat": 4,
 "nbformat_minor": 2
}
